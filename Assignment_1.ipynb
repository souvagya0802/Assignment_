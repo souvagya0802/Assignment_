{
  "nbformat": 4,
  "nbformat_minor": 0,
  "metadata": {
    "colab": {
      "provenance": []
    },
    "kernelspec": {
      "name": "python3",
      "display_name": "Python 3"
    },
    "language_info": {
      "name": "python"
    }
  },
  "cells": [
    {
      "cell_type": "code",
      "execution_count": 6,
      "metadata": {
        "colab": {
          "base_uri": "https://localhost:8080/"
        },
        "id": "uORwJwyxbNtM",
        "outputId": "84e4cfa0-2056-45dd-a90f-4971ae72c98f"
      },
      "outputs": [
        {
          "output_type": "stream",
          "name": "stdout",
          "text": [
            "Enter Target Weight: 9\n",
            "Enter number of elements : 4\n",
            "4\n",
            "1\n",
            "3\n",
            "7\n",
            "False\n"
          ]
        }
      ],
      "source": [
        "def sum_up(W, weights):\n",
        "    if W == 0:\n",
        "        return True\n",
        "    if not weights or W < 0:\n",
        "        return False\n",
        "    return sum_up(W - weights[0], weights[1:]) or sum_up(W, weights[1:])\n",
        "\n",
        "\n",
        "target_weight = int(input(\"Enter Target Weight: \"))\n",
        "list_weights = []\n",
        " \n",
        "n = int(input(\"Enter number of elements : \"))\n",
        "for i in range(0, n):\n",
        "    ele = int(input())\n",
        "    list_weights.append(ele) \n",
        "\n",
        "if sum_up(target_weight, list_weights):\n",
        "    print(\"True\")\n",
        "else:\n",
        "    print(\"False\")\n"
      ]
    },
    {
      "cell_type": "markdown",
      "source": [
        "**1. How Do you handle missing or corrupted daata in a dataset?**\n",
        " "
      ],
      "metadata": {
        "id": "1KKECVFzgfE9"
      }
    },
    {
      "cell_type": "markdown",
      "source": [
        "Ans: a. **Remove Rows with missing values from the dataset:** This approach is  \n",
        "     helpful if there is less number of missing values. If there is huge number of missing values present and if we remove them it makes the dataset inefficient.\n",
        "     b. Build predictive model to predict the missing values like we can calculate mean or median or mode.\n",
        "     c. We can Assign unique category to missing values."
      ],
      "metadata": {
        "id": "17H4iOjGhLwm"
      }
    },
    {
      "cell_type": "markdown",
      "source": [
        "**2. What are the three stages of building a model in machine learning?**"
      ],
      "metadata": {
        "id": "TQnAxpEoi8US"
      }
    },
    {
      "cell_type": "markdown",
      "source": [
        "**a. Model Building:** we have to choose the algorithm and accordin to it we have to train the dataset.\n",
        "**b. Model Testing:** We have to check the accuracy of the model using the test dataset.(Generally we should split the dataset 80 for train the dataset and 20 for test the dataset)\n",
        "**c. Apply the model:** Finally we have to apply the model on real time dataset."
      ],
      "metadata": {
        "id": "nC08vMTHjXol"
      }
    }
  ]
}